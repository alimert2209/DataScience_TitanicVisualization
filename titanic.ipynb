{
 "cells": [
  {
   "cell_type": "markdown",
   "id": "10c5a48c",
   "metadata": {},
   "source": [
    "# 191180055 - ALİ MERT KOCAMAN"
   ]
  },
  {
   "cell_type": "markdown",
   "id": "65bc3683",
   "metadata": {},
   "source": [
    "## IMPORTING LIBRARIES "
   ]
  },
  {
   "cell_type": "code",
   "execution_count": 1,
   "id": "672c6184",
   "metadata": {},
   "outputs": [],
   "source": [
    "import pandas as pd\n",
    "import matplotlib.pyplot as plot\n",
    "import seaborn as sns\n",
    "import numpy as np"
   ]
  },
  {
   "cell_type": "code",
   "execution_count": 2,
   "id": "e751d3a5",
   "metadata": {},
   "outputs": [],
   "source": [
    "df_titanic = pd.read_csv('train.csv')\n",
    "\n",
    "# Access code to dataset file located in the same folder "
   ]
  },
  {
   "cell_type": "code",
   "execution_count": 3,
   "id": "337fecfa",
   "metadata": {
    "scrolled": true
   },
   "outputs": [
    {
     "name": "stdout",
     "output_type": "stream",
     "text": [
      "<class 'pandas.core.frame.DataFrame'>\n",
      "RangeIndex: 891 entries, 0 to 890\n",
      "Data columns (total 12 columns):\n",
      " #   Column       Non-Null Count  Dtype  \n",
      "---  ------       --------------  -----  \n",
      " 0   PassengerId  891 non-null    int64  \n",
      " 1   Survived     891 non-null    int64  \n",
      " 2   Pclass       891 non-null    int64  \n",
      " 3   Name         891 non-null    object \n",
      " 4   Sex          891 non-null    object \n",
      " 5   Age          714 non-null    float64\n",
      " 6   SibSp        891 non-null    int64  \n",
      " 7   Parch        891 non-null    int64  \n",
      " 8   Ticket       891 non-null    object \n",
      " 9   Fare         891 non-null    float64\n",
      " 10  Cabin        204 non-null    object \n",
      " 11  Embarked     889 non-null    object \n",
      "dtypes: float64(2), int64(5), object(5)\n",
      "memory usage: 83.7+ KB\n"
     ]
    }
   ],
   "source": [
    "df_titanic.info()\n",
    "\n",
    "# This code outputs the headers of the columns in the data set, \n",
    "# how many known values there are for these headers, \n",
    "# and the types of these headers."
   ]
  },
  {
   "cell_type": "markdown",
   "id": "307cbfef",
   "metadata": {},
   "source": [
    "## Question 1\n",
    "\n",
    "### Please show all the information that belongs to the last six passengers. You should have 6 rows each referring to a passenger, and the values of 12 features (columns) for each passenger."
   ]
  },
  {
   "cell_type": "code",
   "execution_count": 4,
   "id": "0b8736a6",
   "metadata": {},
   "outputs": [
    {
     "data": {
      "text/html": [
       "<div>\n",
       "<style scoped>\n",
       "    .dataframe tbody tr th:only-of-type {\n",
       "        vertical-align: middle;\n",
       "    }\n",
       "\n",
       "    .dataframe tbody tr th {\n",
       "        vertical-align: top;\n",
       "    }\n",
       "\n",
       "    .dataframe thead th {\n",
       "        text-align: right;\n",
       "    }\n",
       "</style>\n",
       "<table border=\"1\" class=\"dataframe\">\n",
       "  <thead>\n",
       "    <tr style=\"text-align: right;\">\n",
       "      <th></th>\n",
       "      <th>PassengerId</th>\n",
       "      <th>Survived</th>\n",
       "      <th>Pclass</th>\n",
       "      <th>Name</th>\n",
       "      <th>Sex</th>\n",
       "      <th>Age</th>\n",
       "      <th>SibSp</th>\n",
       "      <th>Parch</th>\n",
       "      <th>Ticket</th>\n",
       "      <th>Fare</th>\n",
       "      <th>Cabin</th>\n",
       "      <th>Embarked</th>\n",
       "    </tr>\n",
       "  </thead>\n",
       "  <tbody>\n",
       "    <tr>\n",
       "      <th>885</th>\n",
       "      <td>886</td>\n",
       "      <td>0</td>\n",
       "      <td>3</td>\n",
       "      <td>Rice, Mrs. William (Margaret Norton)</td>\n",
       "      <td>female</td>\n",
       "      <td>39.0</td>\n",
       "      <td>0</td>\n",
       "      <td>5</td>\n",
       "      <td>382652</td>\n",
       "      <td>29.125</td>\n",
       "      <td>NaN</td>\n",
       "      <td>Q</td>\n",
       "    </tr>\n",
       "    <tr>\n",
       "      <th>886</th>\n",
       "      <td>887</td>\n",
       "      <td>0</td>\n",
       "      <td>2</td>\n",
       "      <td>Montvila, Rev. Juozas</td>\n",
       "      <td>male</td>\n",
       "      <td>27.0</td>\n",
       "      <td>0</td>\n",
       "      <td>0</td>\n",
       "      <td>211536</td>\n",
       "      <td>13.000</td>\n",
       "      <td>NaN</td>\n",
       "      <td>S</td>\n",
       "    </tr>\n",
       "    <tr>\n",
       "      <th>887</th>\n",
       "      <td>888</td>\n",
       "      <td>1</td>\n",
       "      <td>1</td>\n",
       "      <td>Graham, Miss. Margaret Edith</td>\n",
       "      <td>female</td>\n",
       "      <td>19.0</td>\n",
       "      <td>0</td>\n",
       "      <td>0</td>\n",
       "      <td>112053</td>\n",
       "      <td>30.000</td>\n",
       "      <td>B42</td>\n",
       "      <td>S</td>\n",
       "    </tr>\n",
       "    <tr>\n",
       "      <th>888</th>\n",
       "      <td>889</td>\n",
       "      <td>0</td>\n",
       "      <td>3</td>\n",
       "      <td>Johnston, Miss. Catherine Helen \"Carrie\"</td>\n",
       "      <td>female</td>\n",
       "      <td>NaN</td>\n",
       "      <td>1</td>\n",
       "      <td>2</td>\n",
       "      <td>W./C. 6607</td>\n",
       "      <td>23.450</td>\n",
       "      <td>NaN</td>\n",
       "      <td>S</td>\n",
       "    </tr>\n",
       "    <tr>\n",
       "      <th>889</th>\n",
       "      <td>890</td>\n",
       "      <td>1</td>\n",
       "      <td>1</td>\n",
       "      <td>Behr, Mr. Karl Howell</td>\n",
       "      <td>male</td>\n",
       "      <td>26.0</td>\n",
       "      <td>0</td>\n",
       "      <td>0</td>\n",
       "      <td>111369</td>\n",
       "      <td>30.000</td>\n",
       "      <td>C148</td>\n",
       "      <td>C</td>\n",
       "    </tr>\n",
       "    <tr>\n",
       "      <th>890</th>\n",
       "      <td>891</td>\n",
       "      <td>0</td>\n",
       "      <td>3</td>\n",
       "      <td>Dooley, Mr. Patrick</td>\n",
       "      <td>male</td>\n",
       "      <td>32.0</td>\n",
       "      <td>0</td>\n",
       "      <td>0</td>\n",
       "      <td>370376</td>\n",
       "      <td>7.750</td>\n",
       "      <td>NaN</td>\n",
       "      <td>Q</td>\n",
       "    </tr>\n",
       "  </tbody>\n",
       "</table>\n",
       "</div>"
      ],
      "text/plain": [
       "     PassengerId  Survived  Pclass                                      Name  \\\n",
       "885          886         0       3      Rice, Mrs. William (Margaret Norton)   \n",
       "886          887         0       2                     Montvila, Rev. Juozas   \n",
       "887          888         1       1              Graham, Miss. Margaret Edith   \n",
       "888          889         0       3  Johnston, Miss. Catherine Helen \"Carrie\"   \n",
       "889          890         1       1                     Behr, Mr. Karl Howell   \n",
       "890          891         0       3                       Dooley, Mr. Patrick   \n",
       "\n",
       "        Sex   Age  SibSp  Parch      Ticket    Fare Cabin Embarked  \n",
       "885  female  39.0      0      5      382652  29.125   NaN        Q  \n",
       "886    male  27.0      0      0      211536  13.000   NaN        S  \n",
       "887  female  19.0      0      0      112053  30.000   B42        S  \n",
       "888  female   NaN      1      2  W./C. 6607  23.450   NaN        S  \n",
       "889    male  26.0      0      0      111369  30.000  C148        C  \n",
       "890    male  32.0      0      0      370376   7.750   NaN        Q  "
      ]
     },
     "execution_count": 4,
     "metadata": {},
     "output_type": "execute_result"
    }
   ],
   "source": [
    "df_titanic.tail(6)\n",
    "\n",
    "# Prints the last 6 elements of the dataset with all their properties."
   ]
  },
  {
   "cell_type": "markdown",
   "id": "526ee5f0",
   "metadata": {},
   "source": [
    "## Question 2\n",
    "\n",
    "### Please list the attributes (column titles)."
   ]
  },
  {
   "cell_type": "code",
   "execution_count": 5,
   "id": "95d63fd4",
   "metadata": {},
   "outputs": [
    {
     "name": "stdout",
     "output_type": "stream",
     "text": [
      "['PassengerId' 'Survived' 'Pclass' 'Name' 'Sex' 'Age' 'SibSp' 'Parch'\n",
      " 'Ticket' 'Fare' 'Cabin' 'Embarked']\n"
     ]
    }
   ],
   "source": [
    "print(df_titanic.columns.values)\n",
    "\n",
    "# Prints the headers of the columns of the dataset. These titles represent the properties of the people in the dataset."
   ]
  },
  {
   "cell_type": "markdown",
   "id": "c38bfa11",
   "metadata": {},
   "source": [
    "## Question 3\n",
    "\n",
    "### Please show the size and dimension of the dataset. Do not forget to write what the output of your script refers to."
   ]
  },
  {
   "cell_type": "code",
   "execution_count": 6,
   "id": "94f6232a",
   "metadata": {},
   "outputs": [
    {
     "data": {
      "text/plain": [
       "(891, 12)"
      ]
     },
     "execution_count": 6,
     "metadata": {},
     "output_type": "execute_result"
    }
   ],
   "source": [
    "df_titanic.shape\n",
    "\n",
    "#891 --> Number of lines ie the number of people on board\n",
    "#12 --> Number of columns, that is, the number of people's attributes "
   ]
  },
  {
   "cell_type": "markdown",
   "id": "91408402",
   "metadata": {},
   "source": [
    "## Question 4\n",
    "\n",
    "### Please check how many missing values there are in the dataset for each feature column. Missing values will have a null value (NaN). Do not forget to write which classes have missing values, and how many missing values are there in the comments."
   ]
  },
  {
   "cell_type": "code",
   "execution_count": 7,
   "id": "517cc588",
   "metadata": {
    "scrolled": true
   },
   "outputs": [
    {
     "name": "stdout",
     "output_type": "stream",
     "text": [
      "Cabin          687\n",
      "Age            177\n",
      "Embarked         2\n",
      "PassengerId      0\n",
      "Survived         0\n",
      "Pclass           0\n",
      "Name             0\n",
      "Sex              0\n",
      "SibSp            0\n",
      "Parch            0\n",
      "Ticket           0\n",
      "Fare             0\n",
      "dtype: int64\n"
     ]
    }
   ],
   "source": [
    "print(df_titanic.isnull().sum().sort_values(ascending=False))\n",
    "\n",
    "#This code prints the number of missing data for the columns in the dataset.\n",
    "#As we can see below, the number of missing data for the 'Age' property is 177,\n",
    "#the missing data for the 'Cabin' property is 687, and the missing data for the 'Embarked' property is 2.\n",
    "#There is no missing data for other attributes."
   ]
  },
  {
   "cell_type": "markdown",
   "id": "254e211f",
   "metadata": {},
   "source": [
    "## Question 5\n",
    "\n",
    "### Please create a pie chart which shows the percentage of the passengers that were traveling in the 1st, 2nd and 3rd classes. Explain in your comments which class has more passengers."
   ]
  },
  {
   "cell_type": "code",
   "execution_count": 8,
   "id": "8ebf9fa5",
   "metadata": {},
   "outputs": [
    {
     "data": {
      "text/plain": [
       "<AxesSubplot:ylabel='Pclass'>"
      ]
     },
     "execution_count": 8,
     "metadata": {},
     "output_type": "execute_result"
    },
    {
     "data": {
      "image/png": "[encoded data removed]",
      "text/plain": [
       "<Figure size 432x288 with 1 Axes>"
      ]
     },
     "metadata": {},
     "output_type": "display_data"
    }
   ],
   "source": [
    "df_titanic.Pclass.value_counts().plot(kind = 'pie', autopct = \"%.2f%%\")\n",
    "\n",
    "# This code, together with the 'Pclass' feature, shows how many percent of passengers are left in each class \n",
    "# with a pie chart. As can be seen from the graph, the 3rd class has the highest number of passengers.\n",
    "# In addition, the \" autopct = \"%.2f\" \" code allows the ratios to be written on the pie chart."
   ]
  },
  {
   "cell_type": "markdown",
   "id": "30ac8af9",
   "metadata": {},
   "source": [
    "## Question 6\n",
    "\n",
    "### Please create a bar chart that shows the number of passengers who survived and the number of passengers who did not survive (You should have two bars referring to survived and did not survive)"
   ]
  },
  {
   "cell_type": "code",
   "execution_count": 9,
   "id": "fa8b4557",
   "metadata": {
    "scrolled": false
   },
   "outputs": [
    {
     "data": {
      "text/plain": [
       "<AxesSubplot:>"
      ]
     },
     "execution_count": 9,
     "metadata": {},
     "output_type": "execute_result"
    },
    {
     "data": {
      "image/png": "[encoded data removed]",
      "text/plain": [
       "<Figure size 432x288 with 1 Axes>"
      ]
     },
     "metadata": {
      "needs_background": "light"
     },
     "output_type": "display_data"
    }
   ],
   "source": [
    "# Seaborn code\n",
    "#sns.catplot(x='Survived', kind='count', data=df_titanic);\n",
    "\n",
    "#This code shows on the screen how many of the passengers on board survived and how many did not.\n",
    "df_titanic['Survived'].value_counts().plot.bar()"
   ]
  },
  {
   "cell_type": "markdown",
   "id": "f4fba22a",
   "metadata": {},
   "source": [
    "## Question 7\n",
    "\n",
    "### Please create a plot that shows the percentage of passengers for each ticketclass who survived and who did not survive in pie chart format. (You should have three pie charts (for each ticket class) referring to passengers of ticket class 1 who survived and didn’t survive, passengers of ticket class 2 who survived and didn’t survive and so on)"
   ]
  },
  {
   "cell_type": "code",
   "execution_count": 327,
   "id": "059a72c5",
   "metadata": {},
   "outputs": [
    {
     "data": {
      "text/plain": [
       "<AxesSubplot:title={'center':'Pclass3'}, ylabel='Survived'>"
      ]
     },
     "execution_count": 327,
     "metadata": {},
     "output_type": "execute_result"
    },
    {
     "data": {
      "image/png": "[encoded data removed]",
      "text/plain": [
       "<Figure size 1440x360 with 3 Axes>"
      ]
     },
     "metadata": {},
     "output_type": "display_data"
    }
   ],
   "source": [
    "plot.figure(figsize=(20,5))\n",
    "plot.subplot(1,3,1)\n",
    "df_titanic['Survived'][df_titanic['Pclass']==1].value_counts().plot.pie(\n",
    "    title = 'Pclass1', \n",
    "    autopct = '%.2f%%',\n",
    "    colors = ['darkturquoise', 'bisque'])\n",
    "\n",
    "plot.subplot(1,3,2)\n",
    "df_titanic['Survived'][df_titanic['Pclass']==2].value_counts().plot.pie(\n",
    "    title = 'Pclass2', \n",
    "    autopct = '%.2f%%',\n",
    "    colors = ['darkturquoise', 'bisque'])\n",
    "\n",
    "plot.subplot(1,3,3)\n",
    "df_titanic['Survived'][df_titanic['Pclass']==3].value_counts().plot.pie(\n",
    "    title = 'Pclass3', \n",
    "    autopct = '%.2f%%',\n",
    "    colors = ['darkturquoise', 'bisque'])\n",
    "\n",
    "# The function of the code in the first line is to set the size of the pie charts that will be output below.\n",
    "# I need to access the 'Survived' property first so I can see the survival rate for each class (df_titanic['Survived']).\n",
    "# Then I have to specify for which class I want the graph to be generated ([df_titanic['Pclass']==1]).\n",
    "# Now I can generate the pie chart using the 'Matploblib' library.\n",
    "#\n",
    "# plot(\n",
    "#     kind='pie',\n",
    "#     title = 'Pclass1',\n",
    "#     autopct = '%.2f%%',\n",
    "#     colors = ['darkturquoise', 'bisque'])\n",
    "#\n",
    "# Since the question asked for a pie chart, I set its kind to pie.\n",
    "# Then I assigned a title so I could see which class it was.\n",
    "# After that, I used the autopct feature to see the ratios on the chart and did some coloring.\n"
   ]
  },
  {
   "cell_type": "markdown",
   "id": "894b6c65",
   "metadata": {},
   "source": [
    "## Question 8\n",
    "\n",
    "### Please create a bar chart that shows the survival rates of each ticket class. (You should have three bars referring to each ticket class) Explain your observations in your comments, are there more class 1, 2 or 3 passengers in total? Which class had the highest survival rate? What might be the reason?"
   ]
  },
  {
   "cell_type": "code",
   "execution_count": 10,
   "id": "936b0ec0",
   "metadata": {
    "scrolled": false
   },
   "outputs": [
    {
     "data": {
      "text/plain": [
       "<AxesSubplot:title={'center':'Survival Rate by Pclass'}, xlabel='Pclass'>"
      ]
     },
     "execution_count": 10,
     "metadata": {},
     "output_type": "execute_result"
    },
    {
     "data": {
      "image/png": "[encoded data removed]",
      "text/plain": [
       "<Figure size 432x288 with 1 Axes>"
      ]
     },
     "metadata": {
      "needs_background": "light"
     },
     "output_type": "display_data"
    }
   ],
   "source": [
    "#Seaborn Code\n",
    "#sns.barplot(x='Pclass', y='Survived', data=df_titanic)\n",
    "\n",
    "df_titanic.groupby('Pclass')['Survived'].mean().plot.bar(rot=0, title = \"Survival Rate by Pclass\")\n",
    "\n",
    "# This code creates a bar graph showing survival rates for each class on the ship.\n",
    "# X axis represents the numbers of classes, Y axis represents survival rate.\n",
    "\n",
    "# To me, the reason is: When the Titanic hit the iceberg, all sides of the ship did not sink at the same time. \n",
    "# One part of the ship sank earlier than the other. My guess is that the side with the 3rd class first sank earlier. \n",
    "# That's why people who are there have lower survival rates. People in the 1st grade have a higher survival rate. \n",
    "# Therefore, the part where the passengers belonging to this class are located may be the part that sinks at the latest."
   ]
  },
  {
   "cell_type": "markdown",
   "id": "c991a5f8",
   "metadata": {},
   "source": [
    "## Question 9\n",
    "\n",
    "### Please create a cross table as shown below (x will be computed and included in your answer). The cross table makes it possible to get information about how many people of each gender have survived etc. Please indicate which gender has the most number of survivors? Which gender has the lowest number of survivors? Compute the rate for each gender: number of survivors for that gender/all passengers of the gender."
   ]
  },
  {
   "cell_type": "code",
   "execution_count": 11,
   "id": "e8e4250d",
   "metadata": {},
   "outputs": [
    {
     "name": "stdout",
     "output_type": "stream",
     "text": [
      "Survived    0    1  All\n",
      "Sex                    \n",
      "female     81  233  314\n",
      "male      468  109  577\n",
      "All       549  342  891\n"
     ]
    },
    {
     "data": {
      "text/html": [
       "<div>\n",
       "<style scoped>\n",
       "    .dataframe tbody tr th:only-of-type {\n",
       "        vertical-align: middle;\n",
       "    }\n",
       "\n",
       "    .dataframe tbody tr th {\n",
       "        vertical-align: top;\n",
       "    }\n",
       "\n",
       "    .dataframe thead th {\n",
       "        text-align: right;\n",
       "    }\n",
       "</style>\n",
       "<table border=\"1\" class=\"dataframe\">\n",
       "  <thead>\n",
       "    <tr style=\"text-align: right;\">\n",
       "      <th>Survived</th>\n",
       "      <th>0</th>\n",
       "      <th>1</th>\n",
       "      <th>All</th>\n",
       "    </tr>\n",
       "    <tr>\n",
       "      <th>Sex</th>\n",
       "      <th></th>\n",
       "      <th></th>\n",
       "      <th></th>\n",
       "    </tr>\n",
       "  </thead>\n",
       "  <tbody>\n",
       "    <tr>\n",
       "      <th>female</th>\n",
       "      <td>0.147541</td>\n",
       "      <td>0.681287</td>\n",
       "      <td>0.352413</td>\n",
       "    </tr>\n",
       "    <tr>\n",
       "      <th>male</th>\n",
       "      <td>0.852459</td>\n",
       "      <td>0.318713</td>\n",
       "      <td>0.647587</td>\n",
       "    </tr>\n",
       "  </tbody>\n",
       "</table>\n",
       "</div>"
      ],
      "text/plain": [
       "Survived         0         1       All\n",
       "Sex                                   \n",
       "female    0.147541  0.681287  0.352413\n",
       "male      0.852459  0.318713  0.647587"
      ]
     },
     "execution_count": 11,
     "metadata": {},
     "output_type": "execute_result"
    }
   ],
   "source": [
    "print(pd.crosstab(df_titanic.Sex, df_titanic.Survived, margins=True))\n",
    "\n",
    "pd.crosstab(df_titanic.Sex, df_titanic.Survived, margins=True, normalize = 'columns')\n",
    "\n",
    "# For this question, I first printed a table with the numbers of the desired features.\n",
    "# Then I created a table that gives the ratios.\n",
    "# There are 891 people on board, of whom 314 are women and 577 are men.\n",
    "# Out of 314 women, 233 survived while 81 died.\n",
    "# Out of 577 men, 109 survived while 468 died.\n",
    "# While the total number of deceased is 549, the number of living is 342.\n",
    "# Now let's look at the ratios.\n",
    "# The ratio of women who died to total people who died is 0.147541(81/549). This indicates that most of the deceased were male (about 85%).\n",
    "# The ratio of living women to total living people is 0.681287. In this case, the ratio of living men to living people would be 0.318713.\n",
    "# The proportion of men on board is 0.647587, while the proportion of women is 0.352413."
   ]
  },
  {
   "cell_type": "markdown",
   "id": "ecc550e1",
   "metadata": {},
   "source": [
    "## Question 10\n",
    "\n",
    "### Please create a bar chart that shows the number of passengers who survived and who didn’t survive for each Port of Embarkation (C = Cherbourg, Q = Queenstown, S = Southampton). (You should have 6 bars in total)"
   ]
  },
  {
   "cell_type": "code",
   "execution_count": 12,
   "id": "e674817b",
   "metadata": {
    "scrolled": false
   },
   "outputs": [
    {
     "data": {
      "text/plain": [
       "<AxesSubplot:>"
      ]
     },
     "execution_count": 12,
     "metadata": {},
     "output_type": "execute_result"
    },
    {
     "data": {
      "image/png": "[encoded data removed]",
      "text/plain": [
       "<Figure size 720x360 with 1 Axes>"
      ]
     },
     "metadata": {
      "needs_background": "light"
     },
     "output_type": "display_data"
    }
   ],
   "source": [
    "#Seaborn Code\n",
    "#df_titanic.loc[[61,829],\"Embarked\"] = \"S\"\n",
    "#sns.catplot(x='Survived', col='Embarked', kind='count', data=df_titanic);\n",
    "\n",
    "df_titanic.loc[[61,829],\"Embarked\"] = \"S\" # I assign 'S' value to 2 pieces of missing data.\n",
    "alive = df_titanic[df_titanic['Survived']==1]['Embarked'].value_counts() # Number of survivors by 'embarked' classification.\n",
    "dead = df_titanic[df_titanic['Survived']==0]['Embarked'].value_counts() # Number of deaths by 'embarked' classification.\n",
    "df = pd.DataFrame([alive,dead]) # Creating DataFrame for two variables defined above\n",
    "df.index = ['Survived = 1','Survived = 0'] # Naming\n",
    "df.plot.bar(figsize=(10,5)) # I converted the DataFrame I created to a bar graph and adjusted its size.\n",
    "\n",
    "\n",
    "# When I look at the bar chart, I understand that many of the passengers who boarded from the port of Southampton did not survive this accident.\n",
    "# I can see that the passengers who boarded from the port of Cherbourg survived approximately half.\n",
    "# I can see that of the approximately 80 people who boarded from the Queenstown port, more than half died in this accident."
   ]
  },
  {
   "cell_type": "markdown",
   "id": "263f8596",
   "metadata": {},
   "source": [
    "## Question 11\n",
    "\n",
    "### Please create a cross table as shown below (x will be computed and included in your answer). (Similar to Q9 but age group information is added. For the age group, we will have [0-18] as child, [19-60] as adult, [60 and over] as old ). Explain which age group had a higher survival rate? What might be the reason?\n"
   ]
  },
  {
   "cell_type": "code",
   "execution_count": 13,
   "id": "0f571e71",
   "metadata": {},
   "outputs": [
    {
     "data": {
      "text/html": [
       "<div>\n",
       "<style scoped>\n",
       "    .dataframe tbody tr th:only-of-type {\n",
       "        vertical-align: middle;\n",
       "    }\n",
       "\n",
       "    .dataframe tbody tr th {\n",
       "        vertical-align: top;\n",
       "    }\n",
       "\n",
       "    .dataframe thead th {\n",
       "        text-align: right;\n",
       "    }\n",
       "</style>\n",
       "<table border=\"1\" class=\"dataframe\">\n",
       "  <thead>\n",
       "    <tr style=\"text-align: right;\">\n",
       "      <th></th>\n",
       "      <th>Age</th>\n",
       "      <th>Adult</th>\n",
       "      <th>Child</th>\n",
       "      <th>Old</th>\n",
       "      <th>All</th>\n",
       "    </tr>\n",
       "    <tr>\n",
       "      <th>Sex</th>\n",
       "      <th>Survived</th>\n",
       "      <th></th>\n",
       "      <th></th>\n",
       "      <th></th>\n",
       "      <th></th>\n",
       "    </tr>\n",
       "  </thead>\n",
       "  <tbody>\n",
       "    <tr>\n",
       "      <th rowspan=\"2\" valign=\"top\">female</th>\n",
       "      <th>0</th>\n",
       "      <td>59</td>\n",
       "      <td>22</td>\n",
       "      <td>0</td>\n",
       "      <td>81</td>\n",
       "    </tr>\n",
       "    <tr>\n",
       "      <th>1</th>\n",
       "      <td>184</td>\n",
       "      <td>46</td>\n",
       "      <td>3</td>\n",
       "      <td>233</td>\n",
       "    </tr>\n",
       "    <tr>\n",
       "      <th rowspan=\"2\" valign=\"top\">male</th>\n",
       "      <th>0</th>\n",
       "      <td>404</td>\n",
       "      <td>47</td>\n",
       "      <td>17</td>\n",
       "      <td>468</td>\n",
       "    </tr>\n",
       "    <tr>\n",
       "      <th>1</th>\n",
       "      <td>83</td>\n",
       "      <td>24</td>\n",
       "      <td>2</td>\n",
       "      <td>109</td>\n",
       "    </tr>\n",
       "    <tr>\n",
       "      <th>All</th>\n",
       "      <th></th>\n",
       "      <td>730</td>\n",
       "      <td>139</td>\n",
       "      <td>22</td>\n",
       "      <td>891</td>\n",
       "    </tr>\n",
       "  </tbody>\n",
       "</table>\n",
       "</div>"
      ],
      "text/plain": [
       "Age              Adult  Child  Old  All\n",
       "Sex    Survived                        \n",
       "female 0            59     22    0   81\n",
       "       1           184     46    3  233\n",
       "male   0           404     47   17  468\n",
       "       1            83     24    2  109\n",
       "All                730    139   22  891"
      ]
     },
     "execution_count": 13,
     "metadata": {},
     "output_type": "execute_result"
    }
   ],
   "source": [
    "df_titanic['Age'] = df_titanic['Age'].fillna((df_titanic['Age'].mean()))\n",
    "# We have a lot of missing data for property 'age'. So I calculated the average age of passengers with data and \n",
    "# assigned it to the ages of those without data. (in the first line)\n",
    "\n",
    "# Classification code requested in the question\n",
    "def classification(age):\n",
    "    if age>=0 and age <=18:\n",
    "        return 'Child'\n",
    "    elif age>18 and age<=60:\n",
    "        return 'Adult'\n",
    "    else:\n",
    "        return 'Old'\n",
    "\n",
    "\n",
    "pd.crosstab([df_titanic.Sex,df_titanic.Survived], df_titanic.Age.apply(classification),  margins=True)\n",
    "\n",
    "# Survival rate in Childs ==> (46+24) / 139 = 0,503597\n",
    "# Survival rate in Adults ==> (184+83) / 730 = 0,365753\n",
    "# Survival rate in Olds ==> (3+2) / 22 = 0,227272\n",
    "# Survival rate of Childs in total ==> (46+24) / (233+109) = 0,204678\n",
    "# Survival rate of Adults in total ==> (184+83) / (233+109) = 0,780701\n",
    "# Survival rate of Olds in total ==> (3+2) / (233+109) = 0,014619\n",
    "# Survival rate in total ==> (233+109) / 891 = 0,383838\n",
    "\n",
    "# When I compare within age groups, the age group with the highest survival rate is the 'Child' group.\n",
    "# In my opinion, this may be due to the low number of children and the fact that they can be saved by being carried by their parents during a crisis."
   ]
  },
  {
   "cell_type": "markdown",
   "id": "4a1b434a",
   "metadata": {},
   "source": [
    "## Question 12\n",
    "\n",
    "### Please create a heatmap for correlation between whether a passenger survived and the strongest three attributes. (You can remove the weakly correlated attributes and show the strongest three attributes)"
   ]
  },
  {
   "cell_type": "code",
   "execution_count": 14,
   "id": "dbac2680",
   "metadata": {
    "scrolled": false
   },
   "outputs": [
    {
     "data": {
      "text/plain": [
       "([<matplotlib.axis.YTick at 0x229873c7a60>,\n",
       "  <matplotlib.axis.YTick at 0x229873c7880>,\n",
       "  <matplotlib.axis.YTick at 0x229873c50a0>,\n",
       "  <matplotlib.axis.YTick at 0x2298745b220>],\n",
       " [Text(0, 0, 'Pclass'),\n",
       "  Text(0, 1, 'Parch'),\n",
       "  Text(0, 2, 'Fare'),\n",
       "  Text(0, 3, 'Survived')])"
      ]
     },
     "execution_count": 14,
     "metadata": {},
     "output_type": "execute_result"
    },
    {
     "data": {
      "image/png": "[encoded data removed]",
      "text/plain": [
       "<Figure size 432x288 with 2 Axes>"
      ]
     },
     "metadata": {
      "needs_background": "light"
     },
     "output_type": "display_data"
    }
   ],
   "source": [
    "#Seaborn code\n",
    "#correlation = df_titanic.corr()\n",
    "#sns.heatmap(correlation,annot=True)\n",
    "\n",
    "# First of all, I found the 3 features with the highest correlation with the 'Survived' feature and created the heatmap accordingly.\n",
    "# These 3 features: Pclass, Parch, Fare\n",
    "\n",
    "# First of all, I create arrays in the form of rows and columns for these 4 properties.\n",
    "column = ['Survived']\n",
    "rows = ['Pclass','Parch','Fare','Survived']\n",
    "\n",
    "# I define the correlation feature of the dataset. Since my main variable is 'Survived', I only adjust the correlations accordingly.\n",
    "cor = df_titanic[['Survived','Pclass','Fare','Parch']].corr()[['Survived']].sort_values(by = 'Survived')\n",
    "plot.imshow(cor, cmap = 'hot') # I'm creating the heatmap.\n",
    "plot.colorbar() # I add the color scale.\n",
    "\n",
    "# I am defining the properties of the X and Y axis.\n",
    "plot.xticks(range(len(column)),df_titanic[['Survived']], rotation=90)\n",
    "plot.yticks(range(len(rows)),df_titanic[['Pclass','Parch','Fare','Survived']])\n",
    "\n"
   ]
  },
  {
   "cell_type": "markdown",
   "id": "adb975e3",
   "metadata": {},
   "source": [
    "## Question 13\n",
    "\n",
    "### What is the most commonly used title (you can get the title information from the Name attribute)?"
   ]
  },
  {
   "cell_type": "code",
   "execution_count": 24,
   "id": "43d8724c",
   "metadata": {},
   "outputs": [
    {
     "name": "stdout",
     "output_type": "stream",
     "text": [
      "Mr          517\n",
      "Miss        182\n",
      "Mrs         125\n",
      "Master       40\n",
      "Dr            7\n",
      "Rev           6\n",
      "Mlle          2\n",
      "Major         2\n",
      "Col           2\n",
      "Countess      1\n",
      "Name: Title, dtype: int64\n",
      "\n",
      "Mr. title is used 517 times and this is the most using.\n"
     ]
    }
   ],
   "source": [
    "df_titanic['Title'] = df_titanic.Name.str.extract('([A-Za-z]+)\\.')\n",
    "# I extract titles containing strings of type of \"Mr., Miss., Dr., etc.\" and assign them to the 'Title' property.\n",
    "\n",
    "print(df_titanic.Title.value_counts().head(10))\n",
    "# I'm calling the first 5 elements of the 'Title' attribute.\n",
    "\n",
    "print(\"\\nMr. title is used \" + str(max(df_titanic.Title.value_counts())) + \" times and this is the most using.\")"
   ]
  },
  {
   "cell_type": "markdown",
   "id": "a30602dd",
   "metadata": {},
   "source": [
    "## Question 14\n",
    "\n",
    "### How many distinct titles are used? Please list these titles. (see Q14)"
   ]
  },
  {
   "cell_type": "code",
   "execution_count": 25,
   "id": "180628ee",
   "metadata": {
    "scrolled": true
   },
   "outputs": [
    {
     "name": "stdout",
     "output_type": "stream",
     "text": [
      "['Mr', 'Mrs', 'Miss', 'Master', 'Don', 'Rev', 'Dr', 'Mme', 'Ms', 'Major', 'Lady', 'Sir', 'Mlle', 'Col', 'Capt', 'Countess', 'Jonkheer']\n"
     ]
    },
    {
     "data": {
      "text/plain": [
       "'17 distinct titles are used.'"
      ]
     },
     "execution_count": 25,
     "metadata": {},
     "output_type": "execute_result"
    }
   ],
   "source": [
    "list1 = df_titanic.Title.tolist()\n",
    "# I am using the 'Title' property that I defined in question 13 here as well.\n",
    "list2 = []\n",
    "# I created two lists. One is an empty list, and the other is the list containing the titles of 891 people.\n",
    "\n",
    "for i in list1:\n",
    "  if i not in list2:\n",
    "    list2.append(i)\n",
    "# With the for loop, I'm throwing the elements in list1 into list2 as different from each other. In other words, as soon as I add the title (Mr.) to the 2nd list, this title becomes unique in list2.\n",
    "# In this way, list2 elements give me all the titles in the dataset.\n",
    "\n",
    "print(list2)\n",
    "# list2'yi yazdıran kod.\n",
    "\n",
    "str(len(list2)) + \" distinct titles are used.\""
   ]
  },
  {
   "cell_type": "markdown",
   "id": "0b4b8f7e",
   "metadata": {},
   "source": [
    "## Question 15\n",
    "\n",
    "### What is the average age of the passengers?"
   ]
  },
  {
   "cell_type": "code",
   "execution_count": 26,
   "id": "54a5181b",
   "metadata": {},
   "outputs": [
    {
     "data": {
      "text/plain": [
       "29.699117647058763"
      ]
     },
     "execution_count": 26,
     "metadata": {},
     "output_type": "execute_result"
    }
   ],
   "source": [
    "df_titanic['Age'].mean()\n",
    "# Code that calculates the average age of passengers on board"
   ]
  },
  {
   "cell_type": "markdown",
   "id": "daa63540",
   "metadata": {},
   "source": [
    "## Question 16\n",
    "\n",
    "### Please create a strip chart (You can use the library seaborn for this) that plots age (y-axis), and survival (x-axis)."
   ]
  },
  {
   "cell_type": "code",
   "execution_count": 27,
   "id": "53abaf34",
   "metadata": {},
   "outputs": [
    {
     "data": {
      "text/plain": [
       "<AxesSubplot:xlabel='Survived', ylabel='Age'>"
      ]
     },
     "execution_count": 27,
     "metadata": {},
     "output_type": "execute_result"
    },
    {
     "data": {
      "image/png": "[encoded data removed]",
      "text/plain": [
       "<Figure size 432x288 with 1 Axes>"
      ]
     },
     "metadata": {
      "needs_background": "light"
     },
     "output_type": "display_data"
    }
   ],
   "source": [
    "sns.stripplot(x='Survived', y='Age', data=df_titanic)\n",
    "\n",
    "# Generating a strip chart using the Seaborn library.\n",
    "# X axis represents survival rate, Y axis represents age."
   ]
  },
  {
   "cell_type": "markdown",
   "id": "1b390596",
   "metadata": {},
   "source": [
    "## Question 17\n",
    "\n",
    "### What is the age of the oldest person who survived?"
   ]
  },
  {
   "cell_type": "code",
   "execution_count": 28,
   "id": "a521a162",
   "metadata": {},
   "outputs": [
    {
     "data": {
      "text/plain": [
       "80.0"
      ]
     },
     "execution_count": 28,
     "metadata": {},
     "output_type": "execute_result"
    }
   ],
   "source": [
    "max(df_titanic[df_titanic['Survived'] == 1]['Age'])\n",
    "# In order to find the correct answer to this question, I first have to distinguish those who survived from those who did not.\n",
    "# I did this in the 'Survived' == 1 part.\n",
    "# Then I reached the age by writing ['Age']. When I wrote it in the max method, I reached the oldest survived person."
   ]
  },
  {
   "cell_type": "markdown",
   "id": "c4ba5e04",
   "metadata": {},
   "source": [
    "## Question 18 - 19\n",
    "\n",
    "### 18 - Please create a pie chart that shows the percentage of people who survived according to the their age group. For the age group, we will have [0-18] as child, [19-60] as adult, [60 and over] as old. \n",
    "\n",
    "### 19 - Please create a pie chart that shows the percentage of people who did not survive according to the their age group. For the age group, we will have [0-18] as child, [19-60] as adult, [60 and over] as old. Please explain your findings relating the Q20 and Q21 in writing"
   ]
  },
  {
   "cell_type": "code",
   "execution_count": 29,
   "id": "001fc90b",
   "metadata": {},
   "outputs": [
    {
     "data": {
      "text/plain": [
       "<AxesSubplot:title={'center':'Old'}, ylabel='Survived'>"
      ]
     },
     "execution_count": 29,
     "metadata": {},
     "output_type": "execute_result"
    },
    {
     "data": {
      "image/png": "[encoded data removed]",
      "text/plain": [
       "<Figure size 1440x360 with 3 Axes>"
      ]
     },
     "metadata": {},
     "output_type": "display_data"
    }
   ],
   "source": [
    "# Here, I chose a different way as I got an error when using the 'classification' classification I made before.\n",
    "# I classified the passengers according to their age, as if I were opening a new column called 'Age Group' in the dataset.\n",
    "df_titanic.loc[((df_titanic['Age']>=0) & (df_titanic['Age']<19)) , 'Age Group'] = 'Child'\n",
    "df_titanic.loc[((df_titanic['Age']>=19) & (df_titanic['Age']<60)) , 'Age Group'] = 'Adult'\n",
    "df_titanic.loc[(df_titanic['Age']>=60) , 'Age Group'] = 'Old'\n",
    "\n",
    "\n",
    "# It is almost the same codes that I wrote in question 7.\n",
    "plot.figure(figsize=(20,5))\n",
    "plot.subplot(1,3,1)\n",
    "df_titanic['Survived'][df_titanic['Age Group']=='Child'].value_counts().plot(\n",
    "    kind='pie', \n",
    "    autopct='%.2f%%',\n",
    "    colors = ['lightcoral', 'gold'],\n",
    "    title = \"Child\")\n",
    "\n",
    "plot.subplot(1,3,2)\n",
    "df_titanic['Survived'][df_titanic['Age Group']=='Adult'].value_counts().plot(\n",
    "    kind='pie', \n",
    "    autopct='%.2f%%',\n",
    "    colors = ['lightcoral', 'gold'],\n",
    "    title = \"Adult\")\n",
    "\n",
    "plot.subplot(1,3,3)\n",
    "df_titanic['Survived'][df_titanic['Age Group']=='Old'].value_counts().plot(\n",
    "    kind='pie', \n",
    "    autopct='%.2f%%',\n",
    "    colors = ['lightcoral', 'gold'],\n",
    "    title = \"Old\")\n",
    "\n"
   ]
  },
  {
   "cell_type": "code",
   "execution_count": 30,
   "id": "7f2a38a8",
   "metadata": {},
   "outputs": [
    {
     "data": {
      "text/plain": [
       "8"
      ]
     },
     "execution_count": 30,
     "metadata": {},
     "output_type": "execute_result"
    }
   ],
   "source": [
    "max(df_titanic['SibSp'])\n",
    "\n",
    "# This code shows how many siblings the person with the most siblings as a passenger has."
   ]
  }
 ],
 "metadata": {
  "kernelspec": {
   "display_name": "Python 3 (ipykernel)",
   "language": "python",
   "name": "python3"
  },
  "language_info": {
   "codemirror_mode": {
    "name": "ipython",
    "version": 3
   },
   "file_extension": ".py",
   "mimetype": "text/x-python",
   "name": "python",
   "nbconvert_exporter": "python",
   "pygments_lexer": "ipython3",
   "version": "3.8.8"
  }
 },
 "nbformat": 4,
 "nbformat_minor": 5
}
